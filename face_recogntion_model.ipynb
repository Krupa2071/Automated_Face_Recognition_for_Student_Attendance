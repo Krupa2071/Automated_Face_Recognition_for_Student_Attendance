version https://git-lfs.github.com/spec/v1
oid sha256:2ebd8b4c21de6565c13db0810ba76079f3c38c081a3489f0b738a35f332a6218
size 1106045
