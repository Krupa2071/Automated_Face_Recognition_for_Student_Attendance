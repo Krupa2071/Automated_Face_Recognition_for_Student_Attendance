version https://git-lfs.github.com/spec/v1
oid sha256:5e81d3880958e1f2e3fee840c83017f9e992154000d5aedd21276b08f88d7399
size 72159
